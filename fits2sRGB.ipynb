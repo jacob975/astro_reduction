{
 "cells": [
  {
   "cell_type": "code",
   "execution_count": 5,
   "metadata": {},
   "outputs": [],
   "source": [
    "from PIL import Image\n",
    "from astropy.io import fits\n",
    "import numpy as np"
   ]
  },
  {
   "cell_type": "code",
   "execution_count": 6,
   "metadata": {},
   "outputs": [
    {
     "name": "stdout",
     "output_type": "stream",
     "text": [
      "['20241107/image/IMG_0246_reduced.fits', '20241107/image/IMG_0247_reduced.fits', '20241107/image/IMG_0248_reduced.fits', '20241107/image/IMG_0249_reduced.fits', '20241107/image/IMG_0250_reduced.fits', '20241107/image/IMG_0251_reduced.fits', '20241107/image/IMG_0252_reduced.fits', '20241107/image/IMG_0253_reduced.fits', '20241107/image/IMG_0254_reduced.fits', '20241107/image/IMG_0255_reduced.fits', '20241107/image/IMG_0256_reduced.fits']\n"
     ]
    }
   ],
   "source": [
    "# Arguments\n",
    "folder = '20241107'\n",
    "image_list = [f'{folder}/image/IMG_{i:04d}_reduced.fits' for i in range(246, 257)]\n",
    "print(image_list)\n"
   ]
  },
  {
   "cell_type": "code",
   "execution_count": 9,
   "metadata": {},
   "outputs": [],
   "source": [
    "def fits2bmp(image_name):\n",
    "    # Load the image\n",
    "    image = fits.open(image_name)[0].data\n",
    "    print(image.shape)\n",
    "    # Save the image as a PNG\n",
    "    # Convert from 16-bit linear to 8-bit gamma=2.2\n",
    "    image = ((image / 65535.0) ** (1/2.2)) * 255\n",
    "    image = np.clip(image, 0, 255).astype(np.uint8)\n",
    "    # Move the color axis to the last dimension\n",
    "    image = np.moveaxis(image, 0, -1)\n",
    "    print(image[100,100])\n",
    "    image = Image.fromarray(image)\n",
    "    image.save(f'{image_name[:-5]}.bmp')"
   ]
  },
  {
   "cell_type": "code",
   "execution_count": 10,
   "metadata": {},
   "outputs": [
    {
     "name": "stdout",
     "output_type": "stream",
     "text": [
      "(3, 2000, 3000)\n",
      "[178 173 173]\n",
      "(3, 2000, 3000)\n",
      "[147 164 172]\n",
      "(3, 2000, 3000)\n",
      "[145 120 165]\n",
      "(3, 2000, 3000)\n",
      "[173 138 166]\n",
      "(3, 2000, 3000)\n",
      "[110 135 145]\n",
      "(3, 2000, 3000)\n",
      "[140 136 155]\n",
      "(3, 2000, 3000)\n",
      "[139 144 182]\n",
      "(3, 2000, 3000)\n",
      "[137 129 162]\n",
      "(3, 2000, 3000)\n",
      "[137 116 178]\n",
      "(3, 2000, 3000)\n",
      "[137 129 150]\n",
      "(3, 2000, 3000)\n",
      "[138 152 149]\n"
     ]
    }
   ],
   "source": [
    "for image_name in image_list:\n",
    "    fits2bmp(image_name)"
   ]
  },
  {
   "cell_type": "code",
   "execution_count": null,
   "metadata": {},
   "outputs": [],
   "source": []
  }
 ],
 "metadata": {
  "kernelspec": {
   "display_name": "canon_r10",
   "language": "python",
   "name": "python3"
  },
  "language_info": {
   "codemirror_mode": {
    "name": "ipython",
    "version": 3
   },
   "file_extension": ".py",
   "mimetype": "text/x-python",
   "name": "python",
   "nbconvert_exporter": "python",
   "pygments_lexer": "ipython3",
   "version": "3.11.10"
  }
 },
 "nbformat": 4,
 "nbformat_minor": 2
}
