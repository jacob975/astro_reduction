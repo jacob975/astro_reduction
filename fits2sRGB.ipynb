{
 "cells": [
  {
   "cell_type": "code",
   "execution_count": 1,
   "metadata": {},
   "outputs": [],
   "source": [
    "from PIL import Image\n",
    "from astropy.io import fits\n",
    "import numpy as np"
   ]
  },
  {
   "cell_type": "code",
   "execution_count": 2,
   "metadata": {},
   "outputs": [
    {
     "name": "stdout",
     "output_type": "stream",
     "text": [
      "['20241107/image/IMG_0246_reduced_R.fits', '20241107/image/IMG_0247_reduced_R.fits', '20241107/image/IMG_0248_reduced_R.fits', '20241107/image/IMG_0249_reduced_R.fits', '20241107/image/IMG_0250_reduced_R.fits', '20241107/image/IMG_0251_reduced_R.fits', '20241107/image/IMG_0252_reduced_R.fits', '20241107/image/IMG_0253_reduced_R.fits', '20241107/image/IMG_0254_reduced_R.fits', '20241107/image/IMG_0255_reduced_R.fits', '20241107/image/IMG_0256_reduced_R.fits']\n"
     ]
    }
   ],
   "source": [
    "# Arguments\n",
    "folder = '20241107'\n",
    "image_list = [f'{folder}/image/IMG_{i:04d}_reduced_R.fits' for i in range(246, 257)]\n",
    "print(image_list)\n"
   ]
  },
  {
   "cell_type": "code",
   "execution_count": 3,
   "metadata": {},
   "outputs": [],
   "source": [
    "def fits2bmp(image_name):\n",
    "    # Load the image\n",
    "    image = fits.open(image_name)[0].data\n",
    "    print(image.shape)\n",
    "    # Save the image as a PNG\n",
    "    # Convert from 16-bit linear to 8-bit gamma=2.2\n",
    "    image = ((image / 65535.0) ** (1/2.2)) * 255\n",
    "    image = np.clip(image, 0, 255).astype(np.uint8)\n",
    "    # Move the color axis to the last dimension\n",
    "    image = np.moveaxis(image, 0, -1)\n",
    "    print(image[100,100])\n",
    "    image = Image.fromarray(image)\n",
    "    image.save(f'{image_name[:-5]}.bmp')"
   ]
  },
  {
   "cell_type": "code",
   "execution_count": 4,
   "metadata": {},
   "outputs": [
    {
     "name": "stdout",
     "output_type": "stream",
     "text": [
      "(2000, 3000)\n",
      "187\n",
      "(2000, 3000)\n",
      "158\n",
      "(2000, 3000)\n",
      "156\n",
      "(2000, 3000)\n",
      "182\n",
      "(2000, 3000)\n",
      "125\n",
      "(2000, 3000)\n",
      "152\n",
      "(2000, 3000)\n",
      "151\n",
      "(2000, 3000)\n",
      "149\n",
      "(2000, 3000)\n",
      "149\n",
      "(2000, 3000)\n",
      "149\n",
      "(2000, 3000)\n",
      "150\n"
     ]
    }
   ],
   "source": [
    "for image_name in image_list:\n",
    "    fits2bmp(image_name)"
   ]
  },
  {
   "cell_type": "code",
   "execution_count": null,
   "metadata": {},
   "outputs": [],
   "source": []
  }
 ],
 "metadata": {
  "kernelspec": {
   "display_name": "canon_r10",
   "language": "python",
   "name": "python3"
  },
  "language_info": {
   "codemirror_mode": {
    "name": "ipython",
    "version": 3
   },
   "file_extension": ".py",
   "mimetype": "text/x-python",
   "name": "python",
   "nbconvert_exporter": "python",
   "pygments_lexer": "ipython3",
   "version": "3.11.10"
  }
 },
 "nbformat": 4,
 "nbformat_minor": 2
}
