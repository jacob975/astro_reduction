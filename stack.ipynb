{
 "cells": [
  {
   "cell_type": "code",
   "execution_count": 1,
   "metadata": {},
   "outputs": [],
   "source": [
    "from PIL import Image\n",
    "from astropy.io import fits\n",
    "import numpy as np"
   ]
  },
  {
   "cell_type": "code",
   "execution_count": null,
   "metadata": {},
   "outputs": [],
   "source": [
    "# Arguments\n",
    "folder = '20241107'\n",
    "image_list = [f'{folder}/image/IMG_{i:04d}_reduced.fits' for i in range(246, 257)]\n",
    "output_file = f'{folder}/image/stacked.fits'"
   ]
  },
  {
   "cell_type": "code",
   "execution_count": 6,
   "metadata": {},
   "outputs": [],
   "source": [
    "def stack_fits(fits_files, output_file):\n",
    "    # Read the image shape\n",
    "    hdulist = fits.open(fits_files[0])\n",
    "    data = hdulist[0].data\n",
    "    length = data.shape[0]\n",
    "    width = data.shape[1]\n",
    "    channel = data.shape[2]\n",
    "\n",
    "    # Take the max of the images\n",
    "    data = np.zeros((len(fits_files), length, width, channel))\n",
    "    for idx, file in enumerate(fits_files):\n",
    "        hdulist = fits.open(file)\n",
    "        data[idx] = hdulist[0].data\n",
    "\n",
    "    data = np.max(data, axis=0)\n",
    "\n",
    "    # Write the output file\n",
    "    hdulist[0].data = data\n",
    "    hdulist.writeto(output_file, overwrite=True)"
   ]
  },
  {
   "cell_type": "code",
   "execution_count": null,
   "metadata": {},
   "outputs": [],
   "source": [
    "stack_fits(image_list, output_file)"
   ]
  },
  {
   "cell_type": "code",
   "execution_count": null,
   "metadata": {},
   "outputs": [],
   "source": []
  }
 ],
 "metadata": {
  "kernelspec": {
   "display_name": "canon_r10",
   "language": "python",
   "name": "python3"
  },
  "language_info": {
   "codemirror_mode": {
    "name": "ipython",
    "version": 3
   },
   "file_extension": ".py",
   "mimetype": "text/x-python",
   "name": "python",
   "nbconvert_exporter": "python",
   "pygments_lexer": "ipython3",
   "version": "3.11.10"
  }
 },
 "nbformat": 4,
 "nbformat_minor": 2
}
