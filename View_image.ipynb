{
 "cells": [
  {
   "cell_type": "code",
   "execution_count": 5,
   "metadata": {},
   "outputs": [],
   "source": [
    "from PIL import Image\n",
    "import os\n",
    "import numpy as np\n",
    "import rawpy"
   ]
  },
  {
   "cell_type": "code",
   "execution_count": null,
   "metadata": {},
   "outputs": [
    {
     "name": "stdout",
     "output_type": "stream",
     "text": [
      "[87  0  0]\n"
     ]
    }
   ],
   "source": [
    "# Load an image from the folder 20241107\n",
    "with open(\"20241107/dark/IMG_0144.CR3\", \"rb\") as f:\n",
    "    raw = rawpy.imread(f)\n",
    "    rgb = raw.postprocess()\n",
    "    img = Image.fromarray(rgb)\n",
    "    #img.show() # DEBUG"
   ]
  },
  {
   "cell_type": "code",
   "execution_count": 10,
   "metadata": {},
   "outputs": [
    {
     "name": "stdout",
     "output_type": "stream",
     "text": [
      "[ 0 81 46]\n"
     ]
    }
   ],
   "source": [
    "# Print the value of the (0,0) pixel\n",
    "print(rgb[100,100])"
   ]
  }
 ],
 "metadata": {
  "kernelspec": {
   "display_name": "canon_r10",
   "language": "python",
   "name": "python3"
  },
  "language_info": {
   "codemirror_mode": {
    "name": "ipython",
    "version": 3
   },
   "file_extension": ".py",
   "mimetype": "text/x-python",
   "name": "python",
   "nbconvert_exporter": "python",
   "pygments_lexer": "ipython3",
   "version": "3.11.10"
  }
 },
 "nbformat": 4,
 "nbformat_minor": 2
}
