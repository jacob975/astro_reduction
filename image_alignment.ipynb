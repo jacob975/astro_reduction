{
 "cells": [
  {
   "cell_type": "code",
   "execution_count": null,
   "metadata": {},
   "outputs": [],
   "source": [
    "from PIL import Image\n",
    "from astropy.io import fits\n",
    "import numpy as np"
   ]
  },
  {
   "cell_type": "code",
   "execution_count": 2,
   "metadata": {},
   "outputs": [],
   "source": [
    "# Arguments\n",
    "folder = '20241107'\n",
    "image_list = [f'{folder}/image/IMG_{i:04d}_reduced_R.fits' for i in range(246, 257)]\n",
    "output_file = f'{folder}/image/stacked.fits'"
   ]
  },
  {
   "cell_type": "code",
   "execution_count": null,
   "metadata": {},
   "outputs": [],
   "source": [
    "def extract_stars(data): # TODO: Implement this function\n",
    "    pass\n",
    "\n",
    "def get_projection(ref_star_table, star_table): # TODO: Implement this function\n",
    "    pass\n",
    "\n",
    "def apply_projection(data, projection): # TODO: Implement this function\n",
    "    pass\n",
    "\n",
    "def alignment(fits_files, output_file):\n",
    "    # Read the image shape\n",
    "    hdulist = fits.open(fits_files[0])\n",
    "    data = hdulist[0].data\n",
    "    length = data.shape[0]\n",
    "    width = data.shape[1]\n",
    "    # Extract stars from the first image\n",
    "    ref_star_table = extract_stars(data)\n",
    "    # Align the rest of the images\n",
    "    aligned_images = []\n",
    "    for fits_file in fits_files[1:]:\n",
    "        hdulist = fits.open(fits_file)\n",
    "        data = hdulist[0].data\n",
    "        star_table = extract_stars(data)\n",
    "        # Align the images\n",
    "        projection = get_projection(ref_star_table, star_table)\n",
    "        # Apply the projection to the image\n",
    "        data = apply_projection(data, projection)\n",
    "        # Save the aligned image\n",
    "        aligned_images.append(data)\n",
    "    # Stack the images\n",
    "    stacked_image = np.mean(aligned_images, axis=0)\n",
    "    # Save the stacked image\n",
    "    hdu = fits.PrimaryHDU(stacked_image)\n",
    "    hdu.writeto(output_file)\n",
    "    return"
   ]
  }
 ],
 "metadata": {
  "kernelspec": {
   "display_name": "canon_r10",
   "language": "python",
   "name": "python3"
  },
  "language_info": {
   "codemirror_mode": {
    "name": "ipython",
    "version": 3
   },
   "file_extension": ".py",
   "mimetype": "text/x-python",
   "name": "python",
   "nbconvert_exporter": "python",
   "pygments_lexer": "ipython3",
   "version": "3.11.10"
  }
 },
 "nbformat": 4,
 "nbformat_minor": 2
}
