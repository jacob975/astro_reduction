{
 "cells": [
  {
   "cell_type": "code",
   "execution_count": 1,
   "metadata": {},
   "outputs": [],
   "source": [
    "import rawpy\n",
    "import numpy as np\n",
    "import os\n",
    "import glob\n",
    "import sys\n",
    "import yaml\n",
    "from imageio import imwrite\n",
    "from PIL import Image, ExifTags\n",
    "from astropy.io import fits"
   ]
  },
  {
   "cell_type": "code",
   "execution_count": 2,
   "metadata": {},
   "outputs": [],
   "source": [
    "# Constants\n",
    "folder = '20241107'\n",
    "image_x = 4000\n",
    "image_y = 6000"
   ]
  },
  {
   "cell_type": "code",
   "execution_count": 3,
   "metadata": {},
   "outputs": [
    {
     "name": "stdout",
     "output_type": "stream",
     "text": [
      "Dark seconds: [1, 2, 5, 10]\n",
      "Dark folders: ['dark_1', 'dark_2', 'dark_5', 'dark_10']\n"
     ]
    }
   ],
   "source": [
    "# Load config\n",
    "with open('config.yaml') as f:\n",
    "    config = yaml.load(f, Loader=yaml.FullLoader)\n",
    "\n",
    "dark_seconds = config['dark_seconds']\n",
    "print('Dark seconds:', dark_seconds)\n",
    "dark_folders = [f'dark_{ds}' for ds in dark_seconds]\n",
    "print('Dark folders:', dark_folders)"
   ]
  },
  {
   "cell_type": "code",
   "execution_count": 4,
   "metadata": {},
   "outputs": [],
   "source": [
    "def binning_process(image: np.ndarray, binning:int):\n",
    "    # Binning\n",
    "    length = image.shape[0] // binning\n",
    "    width = image.shape[1] // binning\n",
    "    image = image.reshape((length, binning, width, binning, 3))\n",
    "    image = np.mean(image, axis=(1, 3))\n",
    "    return image"
   ]
  },
  {
   "cell_type": "code",
   "execution_count": 7,
   "metadata": {},
   "outputs": [],
   "source": [
    "# Refactorize the process to compute the dark mean as a function\n",
    "def compute_dark_mean(folder, dark_folder, image_x:int, image_y:int):\n",
    "    dark_frames_names = glob.glob(f'{folder}/{dark_folder}/*.CR3')\n",
    "    print('Dark frames:', dark_frames_names)\n",
    "    binning = 2\n",
    "    length = image_x // binning\n",
    "    width = image_y // binning\n",
    "    dark_frames = np.zeros((len(dark_frames_names), length, width, 3), dtype=np.uint16)\n",
    "    for idx, dark_frame_name in enumerate(dark_frames_names):\n",
    "        with open(dark_frame_name, 'rb') as f:\n",
    "            dark_frame = rawpy.imread(f)\n",
    "            dark_frame = dark_frame.postprocess() # 8 bits\n",
    "            dark_frame = binning_process(dark_frame, binning)\n",
    "            dark_frame = dark_frame.astype(np.uint16)\n",
    "            # Convert from gamma=2.2 to linear\n",
    "            dark_frame = (dark_frame / 255.0) ** 2.2 * 65535\n",
    "            dark_frames[idx] = dark_frame\n",
    "    dark_mean = np.median(dark_frames, axis=0)\n",
    "    dark_mean = dark_mean.astype(np.uint16)\n",
    "\n",
    "    # Move the color axis to the first position\n",
    "    dark_mean = np.moveaxis(dark_mean, -1, 0)\n",
    "    print(dark_mean.shape)\n",
    "    # Save the image as R, G, B fits files\n",
    "    for idx, color in enumerate(['R', 'G', 'B']):\n",
    "        hdu = fits.PrimaryHDU(dark_mean[idx])\n",
    "        hdu.writeto(f'{folder}/{dark_folder}_mean_{color}.fits', overwrite=True)\n"
   ]
  },
  {
   "cell_type": "code",
   "execution_count": 8,
   "metadata": {},
   "outputs": [
    {
     "name": "stdout",
     "output_type": "stream",
     "text": [
      "Dark frames: ['20241107/dark_1/IMG_0175.CR3', '20241107/dark_1/IMG_0174.CR3', '20241107/dark_1/IMG_0176.CR3', '20241107/dark_1/IMG_0177.CR3', '20241107/dark_1/IMG_0179.CR3', '20241107/dark_1/IMG_0178.CR3', '20241107/dark_1/IMG_0183.CR3', '20241107/dark_1/IMG_0182.CR3', '20241107/dark_1/IMG_0180.CR3', '20241107/dark_1/IMG_0181.CR3']\n",
      "(3, 2000, 3000)\n",
      "Dark frames: ['20241107/dark_2/IMG_0167.CR3', '20241107/dark_2/IMG_0173.CR3', '20241107/dark_2/IMG_0172.CR3', '20241107/dark_2/IMG_0166.CR3', '20241107/dark_2/IMG_0170.CR3', '20241107/dark_2/IMG_0164.CR3', '20241107/dark_2/IMG_0165.CR3', '20241107/dark_2/IMG_0171.CR3', '20241107/dark_2/IMG_0168.CR3', '20241107/dark_2/IMG_0169.CR3']\n",
      "(3, 2000, 3000)\n",
      "Dark frames: ['20241107/dark_5/IMG_0158.CR3', '20241107/dark_5/IMG_0159.CR3', '20241107/dark_5/IMG_0161.CR3', '20241107/dark_5/IMG_0160.CR3', '20241107/dark_5/IMG_0162.CR3', '20241107/dark_5/IMG_0163.CR3', '20241107/dark_5/IMG_0154.CR3', '20241107/dark_5/IMG_0155.CR3', '20241107/dark_5/IMG_0157.CR3', '20241107/dark_5/IMG_0156.CR3']\n",
      "(3, 2000, 3000)\n",
      "Dark frames: ['20241107/dark_10/IMG_0149.CR3', '20241107/dark_10/IMG_0148.CR3', '20241107/dark_10/IMG_0146.CR3', '20241107/dark_10/IMG_0152.CR3', '20241107/dark_10/IMG_0153.CR3', '20241107/dark_10/IMG_0147.CR3', '20241107/dark_10/IMG_0151.CR3', '20241107/dark_10/IMG_0145.CR3', '20241107/dark_10/IMG_0144.CR3', '20241107/dark_10/IMG_0150.CR3']\n",
      "(3, 2000, 3000)\n"
     ]
    }
   ],
   "source": [
    "# Compute the dark mean for each folder\n",
    "for df in dark_folders:\n",
    "    compute_dark_mean(folder, df, image_x, image_y)"
   ]
  },
  {
   "cell_type": "code",
   "execution_count": 9,
   "metadata": {},
   "outputs": [],
   "source": [
    "# Step 2: Compute the dark subtracted image"
   ]
  },
  {
   "cell_type": "code",
   "execution_count": 10,
   "metadata": {},
   "outputs": [
    {
     "name": "stdout",
     "output_type": "stream",
     "text": [
      "['20241107/image/IMG_0246.CR3', '20241107/image/IMG_0247.CR3', '20241107/image/IMG_0248.CR3', '20241107/image/IMG_0249.CR3', '20241107/image/IMG_0250.CR3', '20241107/image/IMG_0251.CR3', '20241107/image/IMG_0252.CR3', '20241107/image/IMG_0253.CR3', '20241107/image/IMG_0254.CR3', '20241107/image/IMG_0255.CR3', '20241107/image/IMG_0256.CR3', '20241107/image/IMG_0257.CR3', '20241107/image/IMG_0258.CR3', '20241107/image/IMG_0259.CR3', '20241107/image/IMG_0260.CR3', '20241107/image/IMG_0261.CR3', '20241107/image/IMG_0262.CR3', '20241107/image/IMG_0263.CR3', '20241107/image/IMG_0264.CR3', '20241107/image/IMG_0265.CR3', '20241107/image/IMG_0266.CR3']\n"
     ]
    }
   ],
   "source": [
    "image_list = [f'{folder}/image/IMG_{i:04d}.CR3' for i in range(246, 267)]\n",
    "print(image_list)"
   ]
  },
  {
   "cell_type": "code",
   "execution_count": 13,
   "metadata": {},
   "outputs": [],
   "source": [
    "def subtract_image(image_list:list, exptime:str):\n",
    "    for image_name in image_list:\n",
    "        try:\n",
    "            with open(image_name, 'rb') as f:\n",
    "                image = rawpy.imread(f)\n",
    "                image = image.postprocess()\n",
    "                image = binning_process(image, 2)\n",
    "        except:\n",
    "            print(f'Error loading {image_name}')\n",
    "            continue\n",
    "        image = image.astype(np.int16)\n",
    "        # Convert from gamma=2.2 to linear\n",
    "        image = (image / 255.0) ** 2.2 * 65535\n",
    "        # Move the last dimension to the first one\n",
    "        image = np.moveaxis(image, -1, 0)\n",
    "\n",
    "        image_R = image[0]\n",
    "        image_G = image[1]\n",
    "        image_B = image[2]\n",
    "\n",
    "        # Laod the dark mean\n",
    "        dark_mean_R = fits.open(f'{folder}/dark_{exptime}_mean_R.fits')[0].data\n",
    "        dark_mean_G = fits.open(f'{folder}/dark_{exptime}_mean_G.fits')[0].data\n",
    "        dark_mean_B = fits.open(f'{folder}/dark_{exptime}_mean_B.fits')[0].data\n",
    "\n",
    "        # Subtract the dark mean from the image\n",
    "        image_reduced_R = image_R - dark_mean_R\n",
    "        image_reduced_G = image_G - dark_mean_G\n",
    "        image_reduced_B = image_B - dark_mean_B \n",
    "        image_reduced_R = np.clip(image_reduced_R, 0, 65535).astype(np.uint16)\n",
    "        image_reduced_G = np.clip(image_reduced_G, 0, 65535).astype(np.uint16)\n",
    "        image_reduced_B = np.clip(image_reduced_B, 0, 65535).astype(np.uint16)\n",
    "\n",
    "        # Save the image as a fits file\n",
    "        hdu = fits.PrimaryHDU(image_reduced_R)\n",
    "        hdul = fits.HDUList([hdu])\n",
    "        hdul.writeto(f'{image_name[:-4]}_reduced_R.fits', overwrite=True)\n",
    "\n",
    "        hdu = fits.PrimaryHDU(image_reduced_G)\n",
    "        hdul = fits.HDUList([hdu])\n",
    "        hdul.writeto(f'{image_name[:-4]}_reduced_G.fits', overwrite=True)\n",
    "\n",
    "        hdu = fits.PrimaryHDU(image_reduced_B)\n",
    "        hdul = fits.HDUList([hdu])\n",
    "        hdul.writeto(f'{image_name[:-4]}_reduced_B.fits', overwrite=True)"
   ]
  },
  {
   "cell_type": "code",
   "execution_count": null,
   "metadata": {},
   "outputs": [
    {
     "name": "stdout",
     "output_type": "stream",
     "text": [
      "Error loading 20241107/image/IMG_0257.CR3\n",
      "Error loading 20241107/image/IMG_0259.CR3\n"
     ]
    }
   ],
   "source": [
    "subtract_image(image_list, '10')"
   ]
  },
  {
   "cell_type": "code",
   "execution_count": null,
   "metadata": {},
   "outputs": [],
   "source": []
  }
 ],
 "metadata": {
  "kernelspec": {
   "display_name": "canon_r10",
   "language": "python",
   "name": "python3"
  },
  "language_info": {
   "codemirror_mode": {
    "name": "ipython",
    "version": 3
   },
   "file_extension": ".py",
   "mimetype": "text/x-python",
   "name": "python",
   "nbconvert_exporter": "python",
   "pygments_lexer": "ipython3",
   "version": "3.11.10"
  }
 },
 "nbformat": 4,
 "nbformat_minor": 2
}
