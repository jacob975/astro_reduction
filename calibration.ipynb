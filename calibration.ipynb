{
 "cells": [
  {
   "cell_type": "code",
   "execution_count": 1,
   "metadata": {},
   "outputs": [],
   "source": [
    "import rawpy\n",
    "import numpy as np\n",
    "import os\n",
    "import glob\n",
    "import sys\n",
    "import yaml\n",
    "from imageio import imwrite\n",
    "from PIL import Image, ExifTags\n",
    "from astropy.io import fits"
   ]
  },
  {
   "cell_type": "code",
   "execution_count": null,
   "metadata": {},
   "outputs": [],
   "source": [
    "# Constants\n",
    "folder = '20241107'\n",
    "image_x = 4000\n",
    "image_y = 6000"
   ]
  },
  {
   "cell_type": "code",
   "execution_count": 3,
   "metadata": {},
   "outputs": [
    {
     "name": "stdout",
     "output_type": "stream",
     "text": [
      "Dark seconds: [1, 2, 5, 10]\n",
      "Dark folders: ['dark_1', 'dark_2', 'dark_5', 'dark_10']\n"
     ]
    }
   ],
   "source": [
    "# Load config\n",
    "with open('config.yaml') as f:\n",
    "    config = yaml.load(f, Loader=yaml.FullLoader)\n",
    "\n",
    "dark_seconds = config['dark_seconds']\n",
    "print('Dark seconds:', dark_seconds)\n",
    "dark_folders = [f'dark_{ds}' for ds in dark_seconds]\n",
    "print('Dark folders:', dark_folders)"
   ]
  },
  {
   "cell_type": "code",
   "execution_count": 9,
   "metadata": {},
   "outputs": [],
   "source": [
    "def binning_process(image: np.ndarray, binning:int):\n",
    "    # Binning\n",
    "    length = image.shape[0] // binning\n",
    "    width = image.shape[1] // binning\n",
    "    image = image.reshape((length, binning, width, binning, 3))\n",
    "    image = np.mean(image, axis=(1, 3))\n",
    "    return image"
   ]
  },
  {
   "cell_type": "code",
   "execution_count": null,
   "metadata": {},
   "outputs": [],
   "source": [
    "# Refactorize the process to compute the dark mean as a function\n",
    "def compute_dark_mean(folder, dark_folder, image_x:int, image_y:int):\n",
    "    dark_frames_names = glob.glob(f'{folder}/{dark_folder}/*.CR3')\n",
    "    print('Dark frames:', dark_frames_names)\n",
    "    binning = 2\n",
    "    length = image_x // binning\n",
    "    width = image_y // binning\n",
    "    dark_frames = np.zeros((len(dark_frames_names), length, width, 3), dtype=np.uint16)\n",
    "    for idx, dark_frame_name in enumerate(dark_frames_names):\n",
    "        with open(dark_frame_name, 'rb') as f:\n",
    "            dark_frame = rawpy.imread(f)\n",
    "            dark_frame = dark_frame.postprocess() # 8 bits\n",
    "            dark_frame = binning_process(dark_frame, binning)\n",
    "            dark_frame = dark_frame.astype(np.uint16)\n",
    "            # Convert from gamma=2.2 to linear\n",
    "            dark_frame = (dark_frame / 255.0) ** 2.2 * 65535\n",
    "            dark_frames[idx] = dark_frame\n",
    "    dark_mean = np.mean(dark_frames, axis=0)\n",
    "    dark_mean = dark_mean.astype(np.uint16)\n",
    "\n",
    "    dark_mean = np.moveaxis(dark_mean, -1, 0)\n",
    "    print(dark_mean.shape)\n",
    "    # Save the image as a fits file\n",
    "    hdu = fits.PrimaryHDU(dark_mean)\n",
    "    hdul = fits.HDUList([hdu])\n",
    "    hdul.writeto(f'{folder}/{dark_folder}/dark_mean.fits', overwrite=True)\n"
   ]
  },
  {
   "cell_type": "code",
   "execution_count": 11,
   "metadata": {},
   "outputs": [
    {
     "name": "stdout",
     "output_type": "stream",
     "text": [
      "Dark frames: ['20241107/dark_1/IMG_0175.CR3', '20241107/dark_1/IMG_0174.CR3', '20241107/dark_1/IMG_0176.CR3', '20241107/dark_1/IMG_0177.CR3', '20241107/dark_1/IMG_0179.CR3', '20241107/dark_1/IMG_0178.CR3', '20241107/dark_1/IMG_0183.CR3', '20241107/dark_1/IMG_0182.CR3', '20241107/dark_1/IMG_0180.CR3', '20241107/dark_1/IMG_0181.CR3']\n",
      "(3, 2000, 3000)\n",
      "Dark frames: ['20241107/dark_2/IMG_0167.CR3', '20241107/dark_2/IMG_0173.CR3', '20241107/dark_2/IMG_0172.CR3', '20241107/dark_2/IMG_0166.CR3', '20241107/dark_2/IMG_0170.CR3', '20241107/dark_2/IMG_0164.CR3', '20241107/dark_2/IMG_0165.CR3', '20241107/dark_2/IMG_0171.CR3', '20241107/dark_2/IMG_0168.CR3', '20241107/dark_2/IMG_0169.CR3']\n",
      "(3, 2000, 3000)\n",
      "Dark frames: ['20241107/dark_5/IMG_0158.CR3', '20241107/dark_5/IMG_0159.CR3', '20241107/dark_5/IMG_0161.CR3', '20241107/dark_5/IMG_0160.CR3', '20241107/dark_5/IMG_0162.CR3', '20241107/dark_5/IMG_0163.CR3', '20241107/dark_5/IMG_0154.CR3', '20241107/dark_5/IMG_0155.CR3', '20241107/dark_5/IMG_0157.CR3', '20241107/dark_5/IMG_0156.CR3']\n",
      "(3, 2000, 3000)\n",
      "Dark frames: ['20241107/dark_10/IMG_0149.CR3', '20241107/dark_10/IMG_0148.CR3', '20241107/dark_10/IMG_0146.CR3', '20241107/dark_10/IMG_0152.CR3', '20241107/dark_10/IMG_0153.CR3', '20241107/dark_10/IMG_0147.CR3', '20241107/dark_10/IMG_0151.CR3', '20241107/dark_10/IMG_0145.CR3', '20241107/dark_10/IMG_0144.CR3', '20241107/dark_10/IMG_0150.CR3']\n",
      "(3, 2000, 3000)\n"
     ]
    }
   ],
   "source": [
    "# Compute the dark mean for each folder\n",
    "for df in dark_folders:\n",
    "    compute_dark_mean(folder, df, image_x, image_y)"
   ]
  },
  {
   "cell_type": "code",
   "execution_count": 13,
   "metadata": {},
   "outputs": [],
   "source": [
    "# Step 2: Compute the dark subtracted image"
   ]
  },
  {
   "cell_type": "code",
   "execution_count": 14,
   "metadata": {},
   "outputs": [
    {
     "name": "stdout",
     "output_type": "stream",
     "text": [
      "['20241107/image/IMG_0246.CR3', '20241107/image/IMG_0247.CR3', '20241107/image/IMG_0248.CR3', '20241107/image/IMG_0249.CR3', '20241107/image/IMG_0250.CR3', '20241107/image/IMG_0251.CR3', '20241107/image/IMG_0252.CR3', '20241107/image/IMG_0253.CR3', '20241107/image/IMG_0254.CR3', '20241107/image/IMG_0255.CR3', '20241107/image/IMG_0256.CR3', '20241107/image/IMG_0257.CR3', '20241107/image/IMG_0258.CR3', '20241107/image/IMG_0259.CR3', '20241107/image/IMG_0260.CR3', '20241107/image/IMG_0261.CR3', '20241107/image/IMG_0262.CR3', '20241107/image/IMG_0263.CR3', '20241107/image/IMG_0264.CR3', '20241107/image/IMG_0265.CR3', '20241107/image/IMG_0266.CR3']\n"
     ]
    }
   ],
   "source": [
    "image_list = [f'{folder}/image/IMG_{i:04d}.CR3' for i in range(246, 267)]\n",
    "print(image_list)"
   ]
  },
  {
   "cell_type": "code",
   "execution_count": null,
   "metadata": {},
   "outputs": [],
   "source": [
    "def subtract_image(image_list:list, exptime:str):\n",
    "    for image_name in image_list:\n",
    "        try:\n",
    "            with open(image_name, 'rb') as f:\n",
    "                image = rawpy.imread(f)\n",
    "                image = image.postprocess()\n",
    "                image = binning_process(image, 2)\n",
    "        except:\n",
    "            print(f'Error loading {image_name}')\n",
    "            continue\n",
    "        image = image.astype(np.int16)\n",
    "        # Convert from gamma=2.2 to linear\n",
    "        image = (image / 255.0) ** 2.2 * 65535\n",
    "        # Move the last dimension to the first one\n",
    "        image = np.moveaxis(image, -1, 0)\n",
    "\n",
    "        # Laod the dark mean\n",
    "        dark_mean = fits.getdata(f'{folder}/dark_{exptime}/dark_mean.fits')\n",
    "\n",
    "        # Subtract the dark mean from the image\n",
    "        image_reduced = image - dark_mean\n",
    "        image_reduced = np.clip(image_reduced, 0, 2**16 - 1)\n",
    "        image_reduced = image_reduced.astype(np.uint16)\n",
    "        # Save the image as a fits file\n",
    "        hdu = fits.PrimaryHDU(image_reduced)\n",
    "        hdul = fits.HDUList([hdu])\n",
    "        hdul.writeto(f'{image_name[:-4]}_reduced.fits', overwrite=True)"
   ]
  },
  {
   "cell_type": "code",
   "execution_count": 16,
   "metadata": {},
   "outputs": [
    {
     "ename": "FileNotFoundError",
     "evalue": "[Errno 2] No such file or directory: '20241107/image/IMG_0257.CR3'",
     "output_type": "error",
     "traceback": [
      "\u001b[0;31m---------------------------------------------------------------------------\u001b[0m",
      "\u001b[0;31mFileNotFoundError\u001b[0m                         Traceback (most recent call last)",
      "Cell \u001b[0;32mIn[16], line 1\u001b[0m\n\u001b[0;32m----> 1\u001b[0m \u001b[43msubtract_image\u001b[49m\u001b[43m(\u001b[49m\u001b[43mimage_list\u001b[49m\u001b[43m,\u001b[49m\u001b[43m \u001b[49m\u001b[38;5;124;43m'\u001b[39;49m\u001b[38;5;124;43m10\u001b[39;49m\u001b[38;5;124;43m'\u001b[39;49m\u001b[43m)\u001b[49m\n",
      "Cell \u001b[0;32mIn[15], line 3\u001b[0m, in \u001b[0;36msubtract_image\u001b[0;34m(image_list, exptime)\u001b[0m\n\u001b[1;32m      1\u001b[0m \u001b[38;5;28;01mdef\u001b[39;00m \u001b[38;5;21msubtract_image\u001b[39m(image_list:\u001b[38;5;28mlist\u001b[39m, exptime:\u001b[38;5;28mstr\u001b[39m):\n\u001b[1;32m      2\u001b[0m     \u001b[38;5;28;01mfor\u001b[39;00m image_name \u001b[38;5;129;01min\u001b[39;00m image_list:\n\u001b[0;32m----> 3\u001b[0m         \u001b[38;5;28;01mwith\u001b[39;00m \u001b[38;5;28;43mopen\u001b[39;49m\u001b[43m(\u001b[49m\u001b[43mimage_name\u001b[49m\u001b[43m,\u001b[49m\u001b[43m \u001b[49m\u001b[38;5;124;43m'\u001b[39;49m\u001b[38;5;124;43mrb\u001b[39;49m\u001b[38;5;124;43m'\u001b[39;49m\u001b[43m)\u001b[49m \u001b[38;5;28;01mas\u001b[39;00m f:\n\u001b[1;32m      4\u001b[0m             image \u001b[38;5;241m=\u001b[39m rawpy\u001b[38;5;241m.\u001b[39mimread(f)\n\u001b[1;32m      5\u001b[0m             image \u001b[38;5;241m=\u001b[39m image\u001b[38;5;241m.\u001b[39mpostprocess()\n",
      "File \u001b[0;32m~/miniforge3/envs/canon_r10/lib/python3.11/site-packages/IPython/core/interactiveshell.py:324\u001b[0m, in \u001b[0;36m_modified_open\u001b[0;34m(file, *args, **kwargs)\u001b[0m\n\u001b[1;32m    317\u001b[0m \u001b[38;5;28;01mif\u001b[39;00m file \u001b[38;5;129;01min\u001b[39;00m {\u001b[38;5;241m0\u001b[39m, \u001b[38;5;241m1\u001b[39m, \u001b[38;5;241m2\u001b[39m}:\n\u001b[1;32m    318\u001b[0m     \u001b[38;5;28;01mraise\u001b[39;00m \u001b[38;5;167;01mValueError\u001b[39;00m(\n\u001b[1;32m    319\u001b[0m         \u001b[38;5;124mf\u001b[39m\u001b[38;5;124m\"\u001b[39m\u001b[38;5;124mIPython won\u001b[39m\u001b[38;5;124m'\u001b[39m\u001b[38;5;124mt let you open fd=\u001b[39m\u001b[38;5;132;01m{\u001b[39;00mfile\u001b[38;5;132;01m}\u001b[39;00m\u001b[38;5;124m by default \u001b[39m\u001b[38;5;124m\"\u001b[39m\n\u001b[1;32m    320\u001b[0m         \u001b[38;5;124m\"\u001b[39m\u001b[38;5;124mas it is likely to crash IPython. If you know what you are doing, \u001b[39m\u001b[38;5;124m\"\u001b[39m\n\u001b[1;32m    321\u001b[0m         \u001b[38;5;124m\"\u001b[39m\u001b[38;5;124myou can use builtins\u001b[39m\u001b[38;5;124m'\u001b[39m\u001b[38;5;124m open.\u001b[39m\u001b[38;5;124m\"\u001b[39m\n\u001b[1;32m    322\u001b[0m     )\n\u001b[0;32m--> 324\u001b[0m \u001b[38;5;28;01mreturn\u001b[39;00m \u001b[43mio_open\u001b[49m\u001b[43m(\u001b[49m\u001b[43mfile\u001b[49m\u001b[43m,\u001b[49m\u001b[43m \u001b[49m\u001b[38;5;241;43m*\u001b[39;49m\u001b[43margs\u001b[49m\u001b[43m,\u001b[49m\u001b[43m \u001b[49m\u001b[38;5;241;43m*\u001b[39;49m\u001b[38;5;241;43m*\u001b[39;49m\u001b[43mkwargs\u001b[49m\u001b[43m)\u001b[49m\n",
      "\u001b[0;31mFileNotFoundError\u001b[0m: [Errno 2] No such file or directory: '20241107/image/IMG_0257.CR3'"
     ]
    }
   ],
   "source": [
    "subtract_image(image_list, '10')"
   ]
  },
  {
   "cell_type": "code",
   "execution_count": null,
   "metadata": {},
   "outputs": [],
   "source": []
  }
 ],
 "metadata": {
  "kernelspec": {
   "display_name": "canon_r10",
   "language": "python",
   "name": "python3"
  },
  "language_info": {
   "codemirror_mode": {
    "name": "ipython",
    "version": 3
   },
   "file_extension": ".py",
   "mimetype": "text/x-python",
   "name": "python",
   "nbconvert_exporter": "python",
   "pygments_lexer": "ipython3",
   "version": "3.11.10"
  }
 },
 "nbformat": 4,
 "nbformat_minor": 2
}
